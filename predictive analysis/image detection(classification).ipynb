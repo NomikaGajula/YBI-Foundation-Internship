{
 "cells": [
  {
   "cell_type": "code",
   "execution_count": 61,
   "id": "f80243af",
   "metadata": {},
   "outputs": [],
   "source": [
    "import pandas as pd\n",
    "import seaborn as sb\n",
    "from sklearn.datasets import load_digits\n",
    "import warnings\n",
    "warnings.filterwarnings('ignore')"
   ]
  },
  {
   "cell_type": "code",
   "execution_count": 76,
   "id": "b593c35e",
   "metadata": {},
   "outputs": [],
   "source": [
    "data=load_digits()"
   ]
  },
  {
   "cell_type": "code",
   "execution_count": 77,
   "id": "4202390e",
   "metadata": {},
   "outputs": [
    {
     "data": {
      "text/plain": [
       "(1797, 8, 8)"
      ]
     },
     "execution_count": 77,
     "metadata": {},
     "output_type": "execute_result"
    }
   ],
   "source": [
    "data.images.shape"
   ]
  },
  {
   "cell_type": "code",
   "execution_count": 78,
   "id": "9a154a83",
   "metadata": {},
   "outputs": [
    {
     "data": {
      "text/plain": [
       "array([[ 0.,  0.,  5., 13.,  9.,  1.,  0.,  0.],\n",
       "       [ 0.,  0., 13., 15., 10., 15.,  5.,  0.],\n",
       "       [ 0.,  3., 15.,  2.,  0., 11.,  8.,  0.],\n",
       "       [ 0.,  4., 12.,  0.,  0.,  8.,  8.,  0.],\n",
       "       [ 0.,  5.,  8.,  0.,  0.,  9.,  8.,  0.],\n",
       "       [ 0.,  4., 11.,  0.,  1., 12.,  7.,  0.],\n",
       "       [ 0.,  2., 14.,  5., 10., 12.,  0.,  0.],\n",
       "       [ 0.,  0.,  6., 13., 10.,  0.,  0.,  0.]])"
      ]
     },
     "execution_count": 78,
     "metadata": {},
     "output_type": "execute_result"
    }
   ],
   "source": [
    "data.images[0]"
   ]
  },
  {
   "cell_type": "code",
   "execution_count": 80,
   "id": "f20df4e6",
   "metadata": {},
   "outputs": [],
   "source": [
    "df=data.images.reshape(len(data.images),-1)"
   ]
  },
  {
   "cell_type": "code",
   "execution_count": 38,
   "id": "f3c7d5b5",
   "metadata": {},
   "outputs": [
    {
     "data": {
      "text/plain": [
       "dtype('float64')"
      ]
     },
     "execution_count": 38,
     "metadata": {},
     "output_type": "execute_result"
    }
   ],
   "source": [
    "df.dtype"
   ]
  },
  {
   "cell_type": "code",
   "execution_count": 39,
   "id": "431b2240",
   "metadata": {},
   "outputs": [
    {
     "data": {
      "text/plain": [
       "array([ 0.,  0.,  5., 13.,  9.,  1.,  0.,  0.,  0.,  0., 13., 15., 10.,\n",
       "       15.,  5.,  0.,  0.,  3., 15.,  2.,  0., 11.,  8.,  0.,  0.,  4.,\n",
       "       12.,  0.,  0.,  8.,  8.,  0.,  0.,  5.,  8.,  0.,  0.,  9.,  8.,\n",
       "        0.,  0.,  4., 11.,  0.,  1., 12.,  7.,  0.,  0.,  2., 14.,  5.,\n",
       "       10., 12.,  0.,  0.,  0.,  0.,  6., 13., 10.,  0.,  0.,  0.])"
      ]
     },
     "execution_count": 39,
     "metadata": {},
     "output_type": "execute_result"
    }
   ],
   "source": [
    "df[0]"
   ]
  },
  {
   "cell_type": "code",
   "execution_count": 40,
   "id": "34da4d71",
   "metadata": {},
   "outputs": [
    {
     "data": {
      "text/plain": [
       "(64,)"
      ]
     },
     "execution_count": 40,
     "metadata": {},
     "output_type": "execute_result"
    }
   ],
   "source": [
    "df[0].shape"
   ]
  },
  {
   "cell_type": "code",
   "execution_count": 41,
   "id": "9bb0e7f9",
   "metadata": {},
   "outputs": [
    {
     "data": {
      "text/plain": [
       "(1797, 64)"
      ]
     },
     "execution_count": 41,
     "metadata": {},
     "output_type": "execute_result"
    }
   ],
   "source": [
    "df.shape"
   ]
  },
  {
   "cell_type": "markdown",
   "id": "3e0b20cc",
   "metadata": {},
   "source": [
    "Scaling Data"
   ]
  },
  {
   "cell_type": "code",
   "execution_count": 42,
   "id": "fea763e5",
   "metadata": {},
   "outputs": [
    {
     "data": {
      "text/plain": [
       "0.0"
      ]
     },
     "execution_count": 42,
     "metadata": {},
     "output_type": "execute_result"
    }
   ],
   "source": [
    "df.min()"
   ]
  },
  {
   "cell_type": "code",
   "execution_count": 43,
   "id": "c2e8863f",
   "metadata": {},
   "outputs": [
    {
     "data": {
      "text/plain": [
       "16.0"
      ]
     },
     "execution_count": 43,
     "metadata": {},
     "output_type": "execute_result"
    }
   ],
   "source": [
    "df.max()"
   ]
  },
  {
   "cell_type": "code",
   "execution_count": 45,
   "id": "3c6963f3",
   "metadata": {},
   "outputs": [],
   "source": [
    "df/=10"
   ]
  },
  {
   "cell_type": "code",
   "execution_count": 46,
   "id": "f464f130",
   "metadata": {},
   "outputs": [
    {
     "data": {
      "text/plain": [
       "array([0. , 0. , 0.5, 1.3, 0.9, 0.1, 0. , 0. , 0. , 0. , 1.3, 1.5, 1. ,\n",
       "       1.5, 0.5, 0. , 0. , 0.3, 1.5, 0.2, 0. , 1.1, 0.8, 0. , 0. , 0.4,\n",
       "       1.2, 0. , 0. , 0.8, 0.8, 0. , 0. , 0.5, 0.8, 0. , 0. , 0.9, 0.8,\n",
       "       0. , 0. , 0.4, 1.1, 0. , 0.1, 1.2, 0.7, 0. , 0. , 0.2, 1.4, 0.5,\n",
       "       1. , 1.2, 0. , 0. , 0. , 0. , 0.6, 1.3, 1. , 0. , 0. , 0. ])"
      ]
     },
     "execution_count": 46,
     "metadata": {},
     "output_type": "execute_result"
    }
   ],
   "source": [
    "df[0]"
   ]
  },
  {
   "cell_type": "code",
   "execution_count": 47,
   "id": "ec33ec28",
   "metadata": {},
   "outputs": [],
   "source": [
    "from sklearn.model_selection import train_test_split"
   ]
  },
  {
   "cell_type": "code",
   "execution_count": 50,
   "id": "08713056",
   "metadata": {},
   "outputs": [
    {
     "data": {
      "text/plain": [
       "{'data': array([[0. , 0. , 0.5, ..., 0. , 0. , 0. ],\n",
       "        [0. , 0. , 0. , ..., 1. , 0. , 0. ],\n",
       "        [0. , 0. , 0. , ..., 1.6, 0.9, 0. ],\n",
       "        ...,\n",
       "        [0. , 0. , 0.1, ..., 0.6, 0. , 0. ],\n",
       "        [0. , 0. , 0.2, ..., 1.2, 0. , 0. ],\n",
       "        [0. , 0. , 1. , ..., 1.2, 0.1, 0. ]]),\n",
       " 'target': array([0, 1, 2, ..., 8, 9, 8]),\n",
       " 'frame': None,\n",
       " 'feature_names': ['pixel_0_0',\n",
       "  'pixel_0_1',\n",
       "  'pixel_0_2',\n",
       "  'pixel_0_3',\n",
       "  'pixel_0_4',\n",
       "  'pixel_0_5',\n",
       "  'pixel_0_6',\n",
       "  'pixel_0_7',\n",
       "  'pixel_1_0',\n",
       "  'pixel_1_1',\n",
       "  'pixel_1_2',\n",
       "  'pixel_1_3',\n",
       "  'pixel_1_4',\n",
       "  'pixel_1_5',\n",
       "  'pixel_1_6',\n",
       "  'pixel_1_7',\n",
       "  'pixel_2_0',\n",
       "  'pixel_2_1',\n",
       "  'pixel_2_2',\n",
       "  'pixel_2_3',\n",
       "  'pixel_2_4',\n",
       "  'pixel_2_5',\n",
       "  'pixel_2_6',\n",
       "  'pixel_2_7',\n",
       "  'pixel_3_0',\n",
       "  'pixel_3_1',\n",
       "  'pixel_3_2',\n",
       "  'pixel_3_3',\n",
       "  'pixel_3_4',\n",
       "  'pixel_3_5',\n",
       "  'pixel_3_6',\n",
       "  'pixel_3_7',\n",
       "  'pixel_4_0',\n",
       "  'pixel_4_1',\n",
       "  'pixel_4_2',\n",
       "  'pixel_4_3',\n",
       "  'pixel_4_4',\n",
       "  'pixel_4_5',\n",
       "  'pixel_4_6',\n",
       "  'pixel_4_7',\n",
       "  'pixel_5_0',\n",
       "  'pixel_5_1',\n",
       "  'pixel_5_2',\n",
       "  'pixel_5_3',\n",
       "  'pixel_5_4',\n",
       "  'pixel_5_5',\n",
       "  'pixel_5_6',\n",
       "  'pixel_5_7',\n",
       "  'pixel_6_0',\n",
       "  'pixel_6_1',\n",
       "  'pixel_6_2',\n",
       "  'pixel_6_3',\n",
       "  'pixel_6_4',\n",
       "  'pixel_6_5',\n",
       "  'pixel_6_6',\n",
       "  'pixel_6_7',\n",
       "  'pixel_7_0',\n",
       "  'pixel_7_1',\n",
       "  'pixel_7_2',\n",
       "  'pixel_7_3',\n",
       "  'pixel_7_4',\n",
       "  'pixel_7_5',\n",
       "  'pixel_7_6',\n",
       "  'pixel_7_7'],\n",
       " 'target_names': array([0, 1, 2, 3, 4, 5, 6, 7, 8, 9]),\n",
       " 'images': array([[[0. , 0. , 0.5, ..., 0.1, 0. , 0. ],\n",
       "         [0. , 0. , 1.3, ..., 1.5, 0.5, 0. ],\n",
       "         [0. , 0.3, 1.5, ..., 1.1, 0.8, 0. ],\n",
       "         ...,\n",
       "         [0. , 0.4, 1.1, ..., 1.2, 0.7, 0. ],\n",
       "         [0. , 0.2, 1.4, ..., 1.2, 0. , 0. ],\n",
       "         [0. , 0. , 0.6, ..., 0. , 0. , 0. ]],\n",
       " \n",
       "        [[0. , 0. , 0. , ..., 0.5, 0. , 0. ],\n",
       "         [0. , 0. , 0. , ..., 0.9, 0. , 0. ],\n",
       "         [0. , 0. , 0.3, ..., 0.6, 0. , 0. ],\n",
       "         ...,\n",
       "         [0. , 0. , 0.1, ..., 0.6, 0. , 0. ],\n",
       "         [0. , 0. , 0.1, ..., 0.6, 0. , 0. ],\n",
       "         [0. , 0. , 0. , ..., 1. , 0. , 0. ]],\n",
       " \n",
       "        [[0. , 0. , 0. , ..., 1.2, 0. , 0. ],\n",
       "         [0. , 0. , 0.3, ..., 1.4, 0. , 0. ],\n",
       "         [0. , 0. , 0.8, ..., 1.6, 0. , 0. ],\n",
       "         ...,\n",
       "         [0. , 0.9, 1.6, ..., 0. , 0. , 0. ],\n",
       "         [0. , 0.3, 1.3, ..., 1.1, 0.5, 0. ],\n",
       "         [0. , 0. , 0. , ..., 1.6, 0.9, 0. ]],\n",
       " \n",
       "        ...,\n",
       " \n",
       "        [[0. , 0. , 0.1, ..., 0.1, 0. , 0. ],\n",
       "         [0. , 0. , 1.3, ..., 0.2, 0.1, 0. ],\n",
       "         [0. , 0. , 1.6, ..., 1.6, 0.5, 0. ],\n",
       "         ...,\n",
       "         [0. , 0. , 1.6, ..., 1.5, 0. , 0. ],\n",
       "         [0. , 0. , 1.5, ..., 1.6, 0. , 0. ],\n",
       "         [0. , 0. , 0.2, ..., 0.6, 0. , 0. ]],\n",
       " \n",
       "        [[0. , 0. , 0.2, ..., 0. , 0. , 0. ],\n",
       "         [0. , 0. , 1.4, ..., 1.5, 0.1, 0. ],\n",
       "         [0. , 0.4, 1.6, ..., 1.6, 0.7, 0. ],\n",
       "         ...,\n",
       "         [0. , 0. , 0. , ..., 1.6, 0.2, 0. ],\n",
       "         [0. , 0. , 0.4, ..., 1.6, 0.2, 0. ],\n",
       "         [0. , 0. , 0.5, ..., 1.2, 0. , 0. ]],\n",
       " \n",
       "        [[0. , 0. , 1. , ..., 0.1, 0. , 0. ],\n",
       "         [0. , 0.2, 1.6, ..., 0.1, 0. , 0. ],\n",
       "         [0. , 0. , 1.5, ..., 1.5, 0. , 0. ],\n",
       "         ...,\n",
       "         [0. , 0.4, 1.6, ..., 1.6, 0.6, 0. ],\n",
       "         [0. , 0.8, 1.6, ..., 1.6, 0.8, 0. ],\n",
       "         [0. , 0.1, 0.8, ..., 1.2, 0.1, 0. ]]]),\n",
       " 'DESCR': \".. _digits_dataset:\\n\\nOptical recognition of handwritten digits dataset\\n--------------------------------------------------\\n\\n**Data Set Characteristics:**\\n\\n    :Number of Instances: 1797\\n    :Number of Attributes: 64\\n    :Attribute Information: 8x8 image of integer pixels in the range 0..16.\\n    :Missing Attribute Values: None\\n    :Creator: E. Alpaydin (alpaydin '@' boun.edu.tr)\\n    :Date: July; 1998\\n\\nThis is a copy of the test set of the UCI ML hand-written digits datasets\\nhttps://archive.ics.uci.edu/ml/datasets/Optical+Recognition+of+Handwritten+Digits\\n\\nThe data set contains images of hand-written digits: 10 classes where\\neach class refers to a digit.\\n\\nPreprocessing programs made available by NIST were used to extract\\nnormalized bitmaps of handwritten digits from a preprinted form. From a\\ntotal of 43 people, 30 contributed to the training set and different 13\\nto the test set. 32x32 bitmaps are divided into nonoverlapping blocks of\\n4x4 and the number of on pixels are counted in each block. This generates\\nan input matrix of 8x8 where each element is an integer in the range\\n0..16. This reduces dimensionality and gives invariance to small\\ndistortions.\\n\\nFor info on NIST preprocessing routines, see M. D. Garris, J. L. Blue, G.\\nT. Candela, D. L. Dimmick, J. Geist, P. J. Grother, S. A. Janet, and C.\\nL. Wilson, NIST Form-Based Handprint Recognition System, NISTIR 5469,\\n1994.\\n\\n.. topic:: References\\n\\n  - C. Kaynak (1995) Methods of Combining Multiple Classifiers and Their\\n    Applications to Handwritten Digit Recognition, MSc Thesis, Institute of\\n    Graduate Studies in Science and Engineering, Bogazici University.\\n  - E. Alpaydin, C. Kaynak (1998) Cascading Classifiers, Kybernetika.\\n  - Ken Tang and Ponnuthurai N. Suganthan and Xi Yao and A. Kai Qin.\\n    Linear dimensionalityreduction using relevance weighted LDA. School of\\n    Electrical and Electronic Engineering Nanyang Technological University.\\n    2005.\\n  - Claudio Gentile. A New Approximate Maximal Margin Classification\\n    Algorithm. NIPS. 2000.\\n\"}"
      ]
     },
     "execution_count": 50,
     "metadata": {},
     "output_type": "execute_result"
    }
   ],
   "source": [
    "data"
   ]
  },
  {
   "cell_type": "code",
   "execution_count": 51,
   "id": "72976705",
   "metadata": {},
   "outputs": [],
   "source": [
    "x_train,x_test,y_train,y_test=train_test_split(df,data.target)"
   ]
  },
  {
   "cell_type": "code",
   "execution_count": 52,
   "id": "117e4579",
   "metadata": {},
   "outputs": [
    {
     "data": {
      "text/plain": [
       "array([[0. , 0. , 0. , ..., 1.6, 1.1, 0. ],\n",
       "       [0. , 0.2, 1.2, ..., 1.5, 0.3, 0. ],\n",
       "       [0. , 0. , 1. , ..., 0.1, 0. , 0. ],\n",
       "       ...,\n",
       "       [0. , 0. , 0.9, ..., 0.3, 0. , 0. ],\n",
       "       [0. , 0. , 0.5, ..., 0.3, 0. , 0. ],\n",
       "       [0. , 0. , 1. , ..., 1.1, 1.4, 0.1]])"
      ]
     },
     "execution_count": 52,
     "metadata": {},
     "output_type": "execute_result"
    }
   ],
   "source": [
    "x_train"
   ]
  },
  {
   "cell_type": "code",
   "execution_count": 53,
   "id": "df9cc8cf",
   "metadata": {},
   "outputs": [
    {
     "data": {
      "text/plain": [
       "array([6, 2, 0, ..., 0, 8, 2])"
      ]
     },
     "execution_count": 53,
     "metadata": {},
     "output_type": "execute_result"
    }
   ],
   "source": [
    "y_train"
   ]
  },
  {
   "cell_type": "code",
   "execution_count": 54,
   "id": "f83bb469",
   "metadata": {},
   "outputs": [],
   "source": [
    "from sklearn.linear_model import LogisticRegression"
   ]
  },
  {
   "cell_type": "code",
   "execution_count": 55,
   "id": "e94bff5c",
   "metadata": {},
   "outputs": [],
   "source": [
    "model=LogisticRegression()"
   ]
  },
  {
   "cell_type": "code",
   "execution_count": 62,
   "id": "2c996a07",
   "metadata": {},
   "outputs": [
    {
     "data": {
      "text/plain": [
       "LogisticRegression()"
      ]
     },
     "execution_count": 62,
     "metadata": {},
     "output_type": "execute_result"
    }
   ],
   "source": [
    "model.fit(x_train,y_train)"
   ]
  },
  {
   "cell_type": "code",
   "execution_count": 63,
   "id": "103099d7",
   "metadata": {},
   "outputs": [],
   "source": [
    "y_predict=model.predict(x_test)"
   ]
  },
  {
   "cell_type": "code",
   "execution_count": 74,
   "id": "16bc5a04",
   "metadata": {},
   "outputs": [],
   "source": [
    "from sklearn.metrics import r2_score,mean_absolute_error,mean_absolute_percentage_error,accuracy_score,confusion_matrix,classification_report"
   ]
  },
  {
   "cell_type": "code",
   "execution_count": 65,
   "id": "6e4a63aa",
   "metadata": {},
   "outputs": [
    {
     "data": {
      "text/plain": [
       "0.9289116208894519"
      ]
     },
     "execution_count": 65,
     "metadata": {},
     "output_type": "execute_result"
    }
   ],
   "source": [
    "r2_score(y_test,y_predict)"
   ]
  },
  {
   "cell_type": "code",
   "execution_count": 66,
   "id": "a249148d",
   "metadata": {},
   "outputs": [
    {
     "data": {
      "text/plain": [
       "0.12"
      ]
     },
     "execution_count": 66,
     "metadata": {},
     "output_type": "execute_result"
    }
   ],
   "source": [
    "mean_absolute_error(y_test,y_predict)"
   ]
  },
  {
   "cell_type": "code",
   "execution_count": 67,
   "id": "7a0b4e08",
   "metadata": {},
   "outputs": [
    {
     "data": {
      "text/plain": [
       "50039995859672.195"
      ]
     },
     "execution_count": 67,
     "metadata": {},
     "output_type": "execute_result"
    }
   ],
   "source": [
    "mean_absolute_percentage_error(y_test,y_predict)"
   ]
  },
  {
   "cell_type": "code",
   "execution_count": 68,
   "id": "c8bf6fa7",
   "metadata": {},
   "outputs": [],
   "source": [
    "from sklearn.ensemble import RandomForestClassifier"
   ]
  },
  {
   "cell_type": "code",
   "execution_count": 69,
   "id": "6602c838",
   "metadata": {},
   "outputs": [],
   "source": [
    "model1=RandomForestClassifier()"
   ]
  },
  {
   "cell_type": "code",
   "execution_count": 70,
   "id": "b6b9a429",
   "metadata": {},
   "outputs": [
    {
     "data": {
      "text/plain": [
       "RandomForestClassifier()"
      ]
     },
     "execution_count": 70,
     "metadata": {},
     "output_type": "execute_result"
    }
   ],
   "source": [
    "model1.fit(x_train,y_train)"
   ]
  },
  {
   "cell_type": "code",
   "execution_count": 71,
   "id": "c98d6f41",
   "metadata": {},
   "outputs": [],
   "source": [
    "y1_predict=model1.predict(x_test)"
   ]
  },
  {
   "cell_type": "code",
   "execution_count": 73,
   "id": "1eb1b60b",
   "metadata": {},
   "outputs": [
    {
     "data": {
      "text/plain": [
       "0.9844444444444445"
      ]
     },
     "execution_count": 73,
     "metadata": {},
     "output_type": "execute_result"
    }
   ],
   "source": [
    "accuracy_score(y_test,y1_predict)"
   ]
  },
  {
   "cell_type": "code",
   "execution_count": 81,
   "id": "51bd0791",
   "metadata": {},
   "outputs": [
    {
     "data": {
      "text/plain": [
       "array([[48,  0,  0,  0,  0,  1,  0,  0,  0,  0],\n",
       "       [ 0, 49,  0,  0,  0,  0,  0,  0,  0,  0],\n",
       "       [ 0,  1, 41,  0,  0,  0,  0,  0,  0,  0],\n",
       "       [ 0,  0,  0, 39,  0,  1,  0,  0,  0,  0],\n",
       "       [ 0,  0,  0,  0, 40,  0,  0,  0,  0,  1],\n",
       "       [ 0,  0,  1,  1,  0, 50,  0,  0,  0,  0],\n",
       "       [ 0,  0,  0,  0,  0,  0, 36,  0,  0,  0],\n",
       "       [ 0,  0,  0,  0,  0,  0,  0, 44,  0,  1],\n",
       "       [ 0,  2,  1,  1,  0,  1,  0,  0, 44,  0],\n",
       "       [ 0,  0,  0,  1,  0,  0,  0,  0,  0, 46]], dtype=int64)"
      ]
     },
     "execution_count": 81,
     "metadata": {},
     "output_type": "execute_result"
    }
   ],
   "source": [
    "confusion_matrix(y_test,y_predict)"
   ]
  },
  {
   "cell_type": "code",
   "execution_count": 83,
   "id": "dfe297f6",
   "metadata": {},
   "outputs": [
    {
     "name": "stdout",
     "output_type": "stream",
     "text": [
      "              precision    recall  f1-score   support\n",
      "\n",
      "           0       1.00      0.98      0.99        49\n",
      "           1       0.94      1.00      0.97        49\n",
      "           2       0.95      0.98      0.96        42\n",
      "           3       0.93      0.97      0.95        40\n",
      "           4       1.00      0.98      0.99        41\n",
      "           5       0.94      0.96      0.95        52\n",
      "           6       1.00      1.00      1.00        36\n",
      "           7       1.00      0.98      0.99        45\n",
      "           8       1.00      0.90      0.95        49\n",
      "           9       0.96      0.98      0.97        47\n",
      "\n",
      "    accuracy                           0.97       450\n",
      "   macro avg       0.97      0.97      0.97       450\n",
      "weighted avg       0.97      0.97      0.97       450\n",
      "\n"
     ]
    }
   ],
   "source": [
    "print(classification_report(y_test,y_predict))"
   ]
  },
  {
   "cell_type": "code",
   "execution_count": null,
   "id": "a77cee69",
   "metadata": {},
   "outputs": [],
   "source": []
  }
 ],
 "metadata": {
  "kernelspec": {
   "display_name": "Python 3 (ipykernel)",
   "language": "python",
   "name": "python3"
  },
  "language_info": {
   "codemirror_mode": {
    "name": "ipython",
    "version": 3
   },
   "file_extension": ".py",
   "mimetype": "text/x-python",
   "name": "python",
   "nbconvert_exporter": "python",
   "pygments_lexer": "ipython3",
   "version": "3.9.7"
  }
 },
 "nbformat": 4,
 "nbformat_minor": 5
}
